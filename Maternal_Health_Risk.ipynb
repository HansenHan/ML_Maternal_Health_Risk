{
 "cells": [
  {
   "cell_type": "code",
   "execution_count": 209,
   "id": "b284539d",
   "metadata": {},
   "outputs": [],
   "source": [
    "import pandas as pd\n",
    "import numpy as np\n",
    "import matplotlib.pyplot as plt\n",
    "import math\n",
    "from math import sqrt\n",
    "from math import pi\n",
    "from math import exp\n",
    "from sklearn.model_selection import train_test_split\n",
    "from sklearn.utils import shuffle\n",
    "\n",
    "import time\n",
    "import warnings\n",
    "warnings.filterwarnings(\"ignore\")"
   ]
  },
  {
   "cell_type": "code",
   "execution_count": 78,
   "id": "b3e1d0ee",
   "metadata": {},
   "outputs": [],
   "source": [
    "df = pd.read_csv(\"Maternal Health Risk Data Set.csv\")"
   ]
  },
  {
   "cell_type": "code",
   "execution_count": 79,
   "id": "9198617e",
   "metadata": {},
   "outputs": [],
   "source": [
    "# df.loc[df['RiskLevel']=='high risk']"
   ]
  },
  {
   "cell_type": "code",
   "execution_count": 80,
   "id": "536dfee3",
   "metadata": {
    "scrolled": false
   },
   "outputs": [
    {
     "data": {
      "text/html": [
       "<div>\n",
       "<style scoped>\n",
       "    .dataframe tbody tr th:only-of-type {\n",
       "        vertical-align: middle;\n",
       "    }\n",
       "\n",
       "    .dataframe tbody tr th {\n",
       "        vertical-align: top;\n",
       "    }\n",
       "\n",
       "    .dataframe thead th {\n",
       "        text-align: right;\n",
       "    }\n",
       "</style>\n",
       "<table border=\"1\" class=\"dataframe\">\n",
       "  <thead>\n",
       "    <tr style=\"text-align: right;\">\n",
       "      <th></th>\n",
       "      <th>Age</th>\n",
       "      <th>SystolicBP</th>\n",
       "      <th>DiastolicBP</th>\n",
       "      <th>BS</th>\n",
       "      <th>BodyTemp</th>\n",
       "      <th>HeartRate</th>\n",
       "      <th>RiskLevel</th>\n",
       "    </tr>\n",
       "  </thead>\n",
       "  <tbody>\n",
       "    <tr>\n",
       "      <th>0</th>\n",
       "      <td>25</td>\n",
       "      <td>130</td>\n",
       "      <td>80</td>\n",
       "      <td>15.0</td>\n",
       "      <td>98.0</td>\n",
       "      <td>86</td>\n",
       "      <td>high risk</td>\n",
       "    </tr>\n",
       "    <tr>\n",
       "      <th>1</th>\n",
       "      <td>35</td>\n",
       "      <td>140</td>\n",
       "      <td>90</td>\n",
       "      <td>13.0</td>\n",
       "      <td>98.0</td>\n",
       "      <td>70</td>\n",
       "      <td>high risk</td>\n",
       "    </tr>\n",
       "    <tr>\n",
       "      <th>2</th>\n",
       "      <td>29</td>\n",
       "      <td>90</td>\n",
       "      <td>70</td>\n",
       "      <td>8.0</td>\n",
       "      <td>100.0</td>\n",
       "      <td>80</td>\n",
       "      <td>high risk</td>\n",
       "    </tr>\n",
       "    <tr>\n",
       "      <th>3</th>\n",
       "      <td>30</td>\n",
       "      <td>140</td>\n",
       "      <td>85</td>\n",
       "      <td>7.0</td>\n",
       "      <td>98.0</td>\n",
       "      <td>70</td>\n",
       "      <td>high risk</td>\n",
       "    </tr>\n",
       "    <tr>\n",
       "      <th>4</th>\n",
       "      <td>35</td>\n",
       "      <td>120</td>\n",
       "      <td>60</td>\n",
       "      <td>6.1</td>\n",
       "      <td>98.0</td>\n",
       "      <td>76</td>\n",
       "      <td>low risk</td>\n",
       "    </tr>\n",
       "    <tr>\n",
       "      <th>...</th>\n",
       "      <td>...</td>\n",
       "      <td>...</td>\n",
       "      <td>...</td>\n",
       "      <td>...</td>\n",
       "      <td>...</td>\n",
       "      <td>...</td>\n",
       "      <td>...</td>\n",
       "    </tr>\n",
       "    <tr>\n",
       "      <th>1009</th>\n",
       "      <td>22</td>\n",
       "      <td>120</td>\n",
       "      <td>60</td>\n",
       "      <td>15.0</td>\n",
       "      <td>98.0</td>\n",
       "      <td>80</td>\n",
       "      <td>high risk</td>\n",
       "    </tr>\n",
       "    <tr>\n",
       "      <th>1010</th>\n",
       "      <td>55</td>\n",
       "      <td>120</td>\n",
       "      <td>90</td>\n",
       "      <td>18.0</td>\n",
       "      <td>98.0</td>\n",
       "      <td>60</td>\n",
       "      <td>high risk</td>\n",
       "    </tr>\n",
       "    <tr>\n",
       "      <th>1011</th>\n",
       "      <td>35</td>\n",
       "      <td>85</td>\n",
       "      <td>60</td>\n",
       "      <td>19.0</td>\n",
       "      <td>98.0</td>\n",
       "      <td>86</td>\n",
       "      <td>high risk</td>\n",
       "    </tr>\n",
       "    <tr>\n",
       "      <th>1012</th>\n",
       "      <td>43</td>\n",
       "      <td>120</td>\n",
       "      <td>90</td>\n",
       "      <td>18.0</td>\n",
       "      <td>98.0</td>\n",
       "      <td>70</td>\n",
       "      <td>high risk</td>\n",
       "    </tr>\n",
       "    <tr>\n",
       "      <th>1013</th>\n",
       "      <td>32</td>\n",
       "      <td>120</td>\n",
       "      <td>65</td>\n",
       "      <td>6.0</td>\n",
       "      <td>101.0</td>\n",
       "      <td>76</td>\n",
       "      <td>low risk</td>\n",
       "    </tr>\n",
       "  </tbody>\n",
       "</table>\n",
       "<p>1014 rows × 7 columns</p>\n",
       "</div>"
      ],
      "text/plain": [
       "      Age  SystolicBP  DiastolicBP    BS  BodyTemp  HeartRate  RiskLevel\n",
       "0      25         130           80  15.0      98.0         86  high risk\n",
       "1      35         140           90  13.0      98.0         70  high risk\n",
       "2      29          90           70   8.0     100.0         80  high risk\n",
       "3      30         140           85   7.0      98.0         70  high risk\n",
       "4      35         120           60   6.1      98.0         76   low risk\n",
       "...   ...         ...          ...   ...       ...        ...        ...\n",
       "1009   22         120           60  15.0      98.0         80  high risk\n",
       "1010   55         120           90  18.0      98.0         60  high risk\n",
       "1011   35          85           60  19.0      98.0         86  high risk\n",
       "1012   43         120           90  18.0      98.0         70  high risk\n",
       "1013   32         120           65   6.0     101.0         76   low risk\n",
       "\n",
       "[1014 rows x 7 columns]"
      ]
     },
     "execution_count": 80,
     "metadata": {},
     "output_type": "execute_result"
    }
   ],
   "source": [
    "df.loc[df['RiskLevel']=='mid risk', 'RiskLevel'] = 'low risk'\n",
    "df"
   ]
  },
  {
   "cell_type": "code",
   "execution_count": 81,
   "id": "622031f2",
   "metadata": {},
   "outputs": [],
   "source": [
    "df_train, df_test = train_test_split(df, test_size=0.25, random_state=0)\n",
    "df_train = df_train.reset_index(drop = True)\n",
    "df_test = df_test.reset_index(drop = True)"
   ]
  },
  {
   "cell_type": "code",
   "execution_count": 82,
   "id": "1fb819c1",
   "metadata": {},
   "outputs": [
    {
     "data": {
      "text/html": [
       "<div>\n",
       "<style scoped>\n",
       "    .dataframe tbody tr th:only-of-type {\n",
       "        vertical-align: middle;\n",
       "    }\n",
       "\n",
       "    .dataframe tbody tr th {\n",
       "        vertical-align: top;\n",
       "    }\n",
       "\n",
       "    .dataframe thead th {\n",
       "        text-align: right;\n",
       "    }\n",
       "</style>\n",
       "<table border=\"1\" class=\"dataframe\">\n",
       "  <thead>\n",
       "    <tr style=\"text-align: right;\">\n",
       "      <th></th>\n",
       "      <th>Age</th>\n",
       "      <th>SystolicBP</th>\n",
       "      <th>DiastolicBP</th>\n",
       "      <th>BS</th>\n",
       "      <th>BodyTemp</th>\n",
       "      <th>HeartRate</th>\n",
       "      <th>RiskLevel</th>\n",
       "    </tr>\n",
       "  </thead>\n",
       "  <tbody>\n",
       "    <tr>\n",
       "      <th>0</th>\n",
       "      <td>23</td>\n",
       "      <td>120</td>\n",
       "      <td>90</td>\n",
       "      <td>7.5</td>\n",
       "      <td>98.0</td>\n",
       "      <td>70</td>\n",
       "      <td>low risk</td>\n",
       "    </tr>\n",
       "    <tr>\n",
       "      <th>1</th>\n",
       "      <td>23</td>\n",
       "      <td>130</td>\n",
       "      <td>70</td>\n",
       "      <td>6.9</td>\n",
       "      <td>98.0</td>\n",
       "      <td>70</td>\n",
       "      <td>low risk</td>\n",
       "    </tr>\n",
       "    <tr>\n",
       "      <th>2</th>\n",
       "      <td>35</td>\n",
       "      <td>100</td>\n",
       "      <td>70</td>\n",
       "      <td>7.5</td>\n",
       "      <td>98.0</td>\n",
       "      <td>66</td>\n",
       "      <td>low risk</td>\n",
       "    </tr>\n",
       "    <tr>\n",
       "      <th>3</th>\n",
       "      <td>22</td>\n",
       "      <td>100</td>\n",
       "      <td>65</td>\n",
       "      <td>12.0</td>\n",
       "      <td>98.0</td>\n",
       "      <td>80</td>\n",
       "      <td>high risk</td>\n",
       "    </tr>\n",
       "    <tr>\n",
       "      <th>4</th>\n",
       "      <td>13</td>\n",
       "      <td>90</td>\n",
       "      <td>65</td>\n",
       "      <td>7.8</td>\n",
       "      <td>101.0</td>\n",
       "      <td>80</td>\n",
       "      <td>low risk</td>\n",
       "    </tr>\n",
       "    <tr>\n",
       "      <th>...</th>\n",
       "      <td>...</td>\n",
       "      <td>...</td>\n",
       "      <td>...</td>\n",
       "      <td>...</td>\n",
       "      <td>...</td>\n",
       "      <td>...</td>\n",
       "      <td>...</td>\n",
       "    </tr>\n",
       "    <tr>\n",
       "      <th>249</th>\n",
       "      <td>28</td>\n",
       "      <td>120</td>\n",
       "      <td>90</td>\n",
       "      <td>6.9</td>\n",
       "      <td>98.0</td>\n",
       "      <td>70</td>\n",
       "      <td>low risk</td>\n",
       "    </tr>\n",
       "    <tr>\n",
       "      <th>250</th>\n",
       "      <td>60</td>\n",
       "      <td>120</td>\n",
       "      <td>85</td>\n",
       "      <td>15.0</td>\n",
       "      <td>98.0</td>\n",
       "      <td>60</td>\n",
       "      <td>high risk</td>\n",
       "    </tr>\n",
       "    <tr>\n",
       "      <th>251</th>\n",
       "      <td>19</td>\n",
       "      <td>120</td>\n",
       "      <td>80</td>\n",
       "      <td>7.0</td>\n",
       "      <td>98.0</td>\n",
       "      <td>70</td>\n",
       "      <td>low risk</td>\n",
       "    </tr>\n",
       "    <tr>\n",
       "      <th>252</th>\n",
       "      <td>22</td>\n",
       "      <td>100</td>\n",
       "      <td>65</td>\n",
       "      <td>7.5</td>\n",
       "      <td>98.0</td>\n",
       "      <td>70</td>\n",
       "      <td>low risk</td>\n",
       "    </tr>\n",
       "    <tr>\n",
       "      <th>253</th>\n",
       "      <td>32</td>\n",
       "      <td>120</td>\n",
       "      <td>90</td>\n",
       "      <td>7.5</td>\n",
       "      <td>98.0</td>\n",
       "      <td>70</td>\n",
       "      <td>low risk</td>\n",
       "    </tr>\n",
       "  </tbody>\n",
       "</table>\n",
       "<p>254 rows × 7 columns</p>\n",
       "</div>"
      ],
      "text/plain": [
       "     Age  SystolicBP  DiastolicBP    BS  BodyTemp  HeartRate  RiskLevel\n",
       "0     23         120           90   7.5      98.0         70   low risk\n",
       "1     23         130           70   6.9      98.0         70   low risk\n",
       "2     35         100           70   7.5      98.0         66   low risk\n",
       "3     22         100           65  12.0      98.0         80  high risk\n",
       "4     13          90           65   7.8     101.0         80   low risk\n",
       "..   ...         ...          ...   ...       ...        ...        ...\n",
       "249   28         120           90   6.9      98.0         70   low risk\n",
       "250   60         120           85  15.0      98.0         60  high risk\n",
       "251   19         120           80   7.0      98.0         70   low risk\n",
       "252   22         100           65   7.5      98.0         70   low risk\n",
       "253   32         120           90   7.5      98.0         70   low risk\n",
       "\n",
       "[254 rows x 7 columns]"
      ]
     },
     "execution_count": 82,
     "metadata": {},
     "output_type": "execute_result"
    }
   ],
   "source": [
    "df_test"
   ]
  },
  {
   "cell_type": "markdown",
   "id": "6d743460",
   "metadata": {},
   "source": [
    "## Naive Bayes:"
   ]
  },
  {
   "cell_type": "code",
   "execution_count": 83,
   "id": "fc0bd54e",
   "metadata": {},
   "outputs": [],
   "source": [
    "# Probability Distribution Function\n",
    "def pdf(x, mean, stdev):\n",
    "    exponent = exp(-((x-mean)**2 / (2 * stdev**2 )))\n",
    "    return (1 / (sqrt(2 * pi) * stdev)) * exponent"
   ]
  },
  {
   "cell_type": "code",
   "execution_count": 84,
   "id": "a6913c64",
   "metadata": {},
   "outputs": [],
   "source": [
    "def my_NaiveBayes_fit(df_input):\n",
    "    result = []\n",
    "    for i in range(len(df_input.columns) - 1):\n",
    "        result.append(np.array([np.mean(df_input.iloc[:,i]), np.std(df_input.iloc[:,i])]))\n",
    "    return result"
   ]
  },
  {
   "cell_type": "code",
   "execution_count": 240,
   "id": "9b0332aa",
   "metadata": {},
   "outputs": [],
   "source": [
    "def my_NaiveBayes(df_train, df_test):\n",
    "    tic1 = time.perf_counter()\n",
    "    class_name = np.unique(df_test.iloc[:, -1])\n",
    "    df_one = df_train.loc[df_train.iloc[:, -1]==class_name[0]].reset_index(drop=True)\n",
    "    df_two = df_train.loc[df_train.iloc[:, -1]==class_name[1]].reset_index(drop=True)\n",
    "    file_one = my_NaiveBayes_fit(df_one)\n",
    "    file_two = my_NaiveBayes_fit(df_two)\n",
    "    \n",
    "    df = df_test.drop(columns = df_test.columns[-1])\n",
    "    result = np.empty(len(df), dtype = object)\n",
    "    score = []\n",
    "    toc1 = time.perf_counter()\n",
    "    \n",
    "    tic2 = time.perf_counter()\n",
    "    for i in range(len(df)):\n",
    "        one = len(df_one)/len(df_train)\n",
    "        two = len(df_two)/len(df_train)\n",
    "        for j in range(len(df.columns)):\n",
    "            tmp_one = pdf(df.iloc[i, j], file_one[j][0], file_one[j][1])\n",
    "            tmp_two = pdf(df.iloc[i, j], file_two[j][0], file_two[j][1])\n",
    "            one = one * tmp_one\n",
    "            two = two * tmp_two\n",
    "        \n",
    "        score.append(one)\n",
    "        if one >= two :\n",
    "            result[i] = class_name[0]\n",
    "        else:\n",
    "            result[i] = class_name[1]\n",
    "    toc2 = time.perf_counter()\n",
    "    runT = [round(toc1 - tic1, 4), round(toc2 - tic2, 4)]\n",
    "    return result, score, runT"
   ]
  },
  {
   "cell_type": "code",
   "execution_count": 241,
   "id": "77db0a2f",
   "metadata": {},
   "outputs": [
    {
     "data": {
      "text/plain": [
       "36"
      ]
     },
     "execution_count": 241,
     "metadata": {},
     "output_type": "execute_result"
    }
   ],
   "source": [
    "prediction_NB, score_NB, time_NB = my_NaiveBayes(df_train, df_test)\n",
    "# prediction\n",
    "error_NB = sum(prediction_NB != df_test.iloc[:, -1])\n",
    "error_NB"
   ]
  },
  {
   "cell_type": "code",
   "execution_count": 242,
   "id": "fc9d0e62",
   "metadata": {},
   "outputs": [
    {
     "data": {
      "text/plain": [
       "0.14173228346456693"
      ]
     },
     "execution_count": 242,
     "metadata": {},
     "output_type": "execute_result"
    }
   ],
   "source": [
    "error_NB/len(df_test)"
   ]
  },
  {
   "cell_type": "code",
   "execution_count": 243,
   "id": "cf694dc0",
   "metadata": {},
   "outputs": [
    {
     "data": {
      "text/plain": [
       "[0.0079, 0.1002]"
      ]
     },
     "execution_count": 243,
     "metadata": {},
     "output_type": "execute_result"
    }
   ],
   "source": [
    "time_NB"
   ]
  },
  {
   "cell_type": "markdown",
   "id": "da3a5832",
   "metadata": {},
   "source": [
    "## KNN:"
   ]
  },
  {
   "cell_type": "code",
   "execution_count": 88,
   "id": "a75027f8",
   "metadata": {},
   "outputs": [],
   "source": [
    "def distance(p1, p2):\n",
    "    result = 0.0\n",
    "    for i in range(len(p1)-1):\n",
    "        result += (p1[i]-p2[i])**2\n",
    "    return sqrt(result)"
   ]
  },
  {
   "cell_type": "code",
   "execution_count": 244,
   "id": "12e25fc5",
   "metadata": {},
   "outputs": [],
   "source": [
    "def my_KNN(df_train, df_test, n_neighbors):\n",
    "    time_train = 0.0\n",
    "    tic2 = time.perf_counter()\n",
    "    result = np.empty(len(df_test), dtype=object)\n",
    "    class_name = np.unique(df_test.iloc[:, -1])\n",
    "    score = []\n",
    "    for i in range(len(df_test)):\n",
    "        tmp_dis = []\n",
    "        tic1 = time.perf_counter()\n",
    "        for j in range(len(df_train)):\n",
    "            dis = np.array([ distance(df_test.iloc[i],df_train.iloc[j]), df_train.iloc[j] ])\n",
    "            tmp_dis.append(dis)\n",
    "        tmp_dis.sort(key = lambda tup: tup[0])\n",
    "        toc1 = time.perf_counter()\n",
    "        time_train += round(toc1 - tic1, 4)\n",
    "        \n",
    "        tmp_result = []\n",
    "        for n in range(n_neighbors):\n",
    "            tmp_result.append(tmp_dis[n][1][-1])\n",
    "        result[i] = max(tmp_result, key=tmp_result.count)\n",
    "        score.append(tmp_result.count(class_name[0])/len(tmp_result))\n",
    "    toc2 = time.perf_counter()\n",
    "    runT = [round(time_train, 4), round(toc2 - tic2 - time_train, 4)]\n",
    "    return result, score, runT"
   ]
  },
  {
   "cell_type": "code",
   "execution_count": 90,
   "id": "93d7483c",
   "metadata": {},
   "outputs": [],
   "source": [
    "def cross_validation_KNN(n_neighbors, df, cv):\n",
    "    result = []\n",
    "    df_shuffle = shuffle(df)\n",
    "    for i in range(cv):\n",
    "        tmp_df_test = df_shuffle.iloc[int(len(df_shuffle)/cv)*i:int(len(df_shuffle)/cv)*(i+1)]\n",
    "        tmp_df_train = df_shuffle.drop(tmp_df_test.index)\n",
    "        prediction, _, _ = my_KNN(tmp_df_train, tmp_df_test, n_neighbors)\n",
    "        error = sum(prediction != tmp_df_test.iloc[:, -1])\n",
    "        result.append(error)\n",
    "    return result"
   ]
  },
  {
   "cell_type": "code",
   "execution_count": 93,
   "id": "4c71af50",
   "metadata": {},
   "outputs": [],
   "source": [
    "# cross validation for KNN:\n",
    "cv = 3\n",
    "error_list = []\n",
    "tic1 = time.perf_counter()\n",
    "for i in range(1,11):\n",
    "    tmp_error = cross_validation_KNN(i, df_train, cv)\n",
    "    error_list.append(sum(tmp_error)/len(tmp_error))\n",
    "toc1 = time.perf_counter()"
   ]
  },
  {
   "cell_type": "code",
   "execution_count": 94,
   "id": "246955cc",
   "metadata": {},
   "outputs": [
    {
     "name": "stdout",
     "output_type": "stream",
     "text": [
      "Running time for KNN cross-validation: 1174.3178 seconds\n"
     ]
    }
   ],
   "source": [
    "print(f\"Running time for KNN cross-validation: {toc1 - tic1:0.4f} seconds\")"
   ]
  },
  {
   "cell_type": "code",
   "execution_count": 95,
   "id": "bf7acfc1",
   "metadata": {},
   "outputs": [
    {
     "data": {
      "text/plain": [
       "Text(0.5, 1.0, 'KNN')"
      ]
     },
     "execution_count": 95,
     "metadata": {},
     "output_type": "execute_result"
    },
    {
     "data": {
      "image/png": "[encoded data removed]",
      "text/plain": [
       "<Figure size 432x288 with 1 Axes>"
      ]
     },
     "metadata": {
      "needs_background": "light"
     },
     "output_type": "display_data"
    }
   ],
   "source": [
    "plt.plot(np.arange(1, len(error_list)+1), error_list)\n",
    "plt.xlabel('n_neighbors')\n",
    "plt.ylabel('error')\n",
    "plt.title('KNN')"
   ]
  },
  {
   "cell_type": "code",
   "execution_count": 245,
   "id": "f2113e03",
   "metadata": {},
   "outputs": [
    {
     "data": {
      "text/plain": [
       "25"
      ]
     },
     "execution_count": 245,
     "metadata": {},
     "output_type": "execute_result"
    }
   ],
   "source": [
    "prediction_KNN, score_KNN, time_KNN = my_KNN(df_train, df_test, 2)\n",
    "# prediction\n",
    "error_KNN = sum(prediction_KNN != df_test.iloc[:, -1])\n",
    "error_KNN"
   ]
  },
  {
   "cell_type": "code",
   "execution_count": 246,
   "id": "3ab9244b",
   "metadata": {},
   "outputs": [
    {
     "data": {
      "text/plain": [
       "0.0984251968503937"
      ]
     },
     "execution_count": 246,
     "metadata": {},
     "output_type": "execute_result"
    }
   ],
   "source": [
    "error_KNN/len(df_test)"
   ]
  },
  {
   "cell_type": "code",
   "execution_count": 247,
   "id": "52eeaeaa",
   "metadata": {},
   "outputs": [
    {
     "data": {
      "text/plain": [
       "[56.2895, 0.1531]"
      ]
     },
     "execution_count": 247,
     "metadata": {},
     "output_type": "execute_result"
    }
   ],
   "source": [
    "time_KNN"
   ]
  },
  {
   "cell_type": "code",
   "execution_count": null,
   "id": "273f3496",
   "metadata": {},
   "outputs": [],
   "source": []
  },
  {
   "cell_type": "markdown",
   "id": "62c5421b",
   "metadata": {},
   "source": [
    "## Decision Tree:"
   ]
  },
  {
   "cell_type": "code",
   "execution_count": 250,
   "id": "dee5b4f6",
   "metadata": {},
   "outputs": [],
   "source": [
    "def check_purity(data):\n",
    "    \n",
    "    label_column = data[:, -1]\n",
    "    unique_classes = np.unique(label_column)\n",
    "\n",
    "    if len(unique_classes) == 1:\n",
    "        return True\n",
    "    else:\n",
    "        return False"
   ]
  },
  {
   "cell_type": "code",
   "execution_count": 251,
   "id": "871a5f73",
   "metadata": {},
   "outputs": [],
   "source": [
    "def classify_data(data):\n",
    "    \n",
    "    label_column = data[:, -1]\n",
    "    unique_classes, counts_unique_classes = np.unique(label_column, return_counts=True)\n",
    "\n",
    "    index = counts_unique_classes.argmax()\n",
    "    classification = unique_classes[index]\n",
    "    \n",
    "    return classification"
   ]
  },
  {
   "cell_type": "code",
   "execution_count": 252,
   "id": "d93ddbcf",
   "metadata": {},
   "outputs": [],
   "source": [
    "def get_potential_splits(data):\n",
    "    \n",
    "    potential_splits = {}\n",
    "    _, n_columns = data.shape\n",
    "    for column_index in range(n_columns - 1):          # excluding the last column which is the label\n",
    "        values = data[:, column_index]\n",
    "        unique_values = np.unique(values)\n",
    "        \n",
    "        potential_splits[column_index] = unique_values\n",
    "    \n",
    "    return potential_splits"
   ]
  },
  {
   "cell_type": "code",
   "execution_count": 253,
   "id": "92f53049",
   "metadata": {},
   "outputs": [],
   "source": [
    "def split_data(data, split_column, split_value):\n",
    "    \n",
    "    split_column_values = data[:, split_column]\n",
    "\n",
    "    type_of_feature = FEATURE_TYPES[split_column]\n",
    "    if type_of_feature == \"continuous\":\n",
    "        data_below = data[split_column_values <= split_value]\n",
    "        data_above = data[split_column_values >  split_value]\n",
    "    \n",
    "    # feature is categorical   \n",
    "    else:\n",
    "        data_below = data[split_column_values == split_value]\n",
    "        data_above = data[split_column_values != split_value]\n",
    "    \n",
    "    return data_below, data_above"
   ]
  },
  {
   "cell_type": "code",
   "execution_count": 254,
   "id": "e14be230",
   "metadata": {},
   "outputs": [],
   "source": [
    "def calculate_entropy(data):\n",
    "    \n",
    "    label_column = data[:, -1]\n",
    "    _, counts = np.unique(label_column, return_counts=True)\n",
    "\n",
    "    probabilities = counts / counts.sum()\n",
    "    entropy = sum(probabilities * -np.log2(probabilities))\n",
    "     \n",
    "    return entropy"
   ]
  },
  {
   "cell_type": "code",
   "execution_count": 255,
   "id": "9ab84769",
   "metadata": {},
   "outputs": [],
   "source": [
    "def calculate_overall_entropy(data_below, data_above):\n",
    "    \n",
    "    n = len(data_below) + len(data_above)\n",
    "    p_data_below = len(data_below) / n\n",
    "    p_data_above = len(data_above) / n\n",
    "\n",
    "    overall_entropy =  (p_data_below * calculate_entropy(data_below) \n",
    "                      + p_data_above * calculate_entropy(data_above))\n",
    "    \n",
    "    return overall_entropy"
   ]
  },
  {
   "cell_type": "code",
   "execution_count": 256,
   "id": "0542dcb7",
   "metadata": {},
   "outputs": [],
   "source": [
    "def determine_best_split(data, potential_splits):\n",
    "    \n",
    "    overall_entropy = 9999\n",
    "    for column_index in potential_splits:\n",
    "        for value in potential_splits[column_index]:\n",
    "            data_below, data_above = split_data(data, split_column=column_index, split_value=value)\n",
    "            current_overall_entropy = calculate_overall_entropy(data_below, data_above)\n",
    "\n",
    "            if current_overall_entropy <= overall_entropy:\n",
    "                overall_entropy = current_overall_entropy\n",
    "                best_split_column = column_index\n",
    "                best_split_value = value\n",
    "    \n",
    "    return best_split_column, best_split_value"
   ]
  },
  {
   "cell_type": "code",
   "execution_count": 257,
   "id": "105f3ecc",
   "metadata": {},
   "outputs": [],
   "source": [
    "def determine_type_of_feature(df):\n",
    "    \n",
    "    feature_types = []\n",
    "    n_unique_values_treshold = 15\n",
    "    for feature in df.columns:\n",
    "        if feature != \"label\":\n",
    "            unique_values = df[feature].unique()\n",
    "            example_value = unique_values[0]\n",
    "\n",
    "            if (isinstance(example_value, str)) or (len(unique_values) <= n_unique_values_treshold):\n",
    "                feature_types.append(\"categorical\")\n",
    "            else:\n",
    "                feature_types.append(\"continuous\")\n",
    "    \n",
    "    return feature_types"
   ]
  },
  {
   "cell_type": "code",
   "execution_count": 258,
   "id": "50d19b42",
   "metadata": {},
   "outputs": [],
   "source": [
    "def decision_tree_algorithm(df, counter=0, min_samples=2, max_depth=5):\n",
    "    \n",
    "    # data preparations\n",
    "    if counter == 0:\n",
    "        global COLUMN_HEADERS, FEATURE_TYPES\n",
    "        COLUMN_HEADERS = df.columns\n",
    "        FEATURE_TYPES = determine_type_of_feature(df)\n",
    "        data = df.values\n",
    "    else:\n",
    "        data = df           \n",
    "    \n",
    "    \n",
    "    # base cases\n",
    "    if (check_purity(data)) or (len(data) < min_samples) or (counter == max_depth):\n",
    "        classification = classify_data(data)\n",
    "        \n",
    "        return classification\n",
    "\n",
    "    \n",
    "    # recursive part\n",
    "    else:    \n",
    "        counter += 1\n",
    "\n",
    "        # helper functions \n",
    "        potential_splits = get_potential_splits(data)\n",
    "        split_column, split_value = determine_best_split(data, potential_splits)\n",
    "        data_below, data_above = split_data(data, split_column, split_value)\n",
    "        \n",
    "        # check for empty data\n",
    "        if len(data_below) == 0 or len(data_above) == 0:\n",
    "            classification = classify_data(data)\n",
    "            return classification\n",
    "        \n",
    "        # determine question\n",
    "        feature_name = COLUMN_HEADERS[split_column]\n",
    "        type_of_feature = FEATURE_TYPES[split_column]\n",
    "        if type_of_feature == \"continuous\":\n",
    "            question = \"{} <= {}\".format(feature_name, split_value)\n",
    "            \n",
    "        # feature is categorical\n",
    "        else:\n",
    "            question = \"{} = {}\".format(feature_name, split_value)\n",
    "        \n",
    "        # instantiate sub-tree\n",
    "        sub_tree = {question: []}\n",
    "        \n",
    "        # find answers (recursion)\n",
    "        yes_answer = decision_tree_algorithm(data_below, counter, min_samples, max_depth)\n",
    "        no_answer = decision_tree_algorithm(data_above, counter, min_samples, max_depth)\n",
    "        \n",
    "        # If the answers are the same, then there is no point in asking the qestion.\n",
    "        # This could happen when the data is classified even though it is not pure\n",
    "        # yet (min_samples or max_depth base case).\n",
    "        if yes_answer == no_answer:\n",
    "            sub_tree = yes_answer\n",
    "        else:\n",
    "            sub_tree[question].append(yes_answer)\n",
    "            sub_tree[question].append(no_answer)\n",
    "        \n",
    "        return sub_tree"
   ]
  },
  {
   "cell_type": "code",
   "execution_count": 259,
   "id": "0d4298bc",
   "metadata": {},
   "outputs": [],
   "source": [
    "def classify_example(example, tree):\n",
    "    question = list(tree.keys())[0]\n",
    "    feature_name, comparison_operator, value = question.split(\" \")\n",
    "\n",
    "    # ask question\n",
    "    if comparison_operator == \"<=\":  # feature is continuous\n",
    "        if example[feature_name] <= float(value):\n",
    "            answer = tree[question][0]\n",
    "        else:\n",
    "            answer = tree[question][1]\n",
    "    \n",
    "    # feature is categorical\n",
    "    else:\n",
    "        if str(example[feature_name]) == value:\n",
    "            answer = tree[question][0]\n",
    "        else:\n",
    "            answer = tree[question][1]\n",
    "\n",
    "    # base case\n",
    "    if not isinstance(answer, dict):\n",
    "        return answer\n",
    "    \n",
    "    # recursive part\n",
    "    else:\n",
    "        residual_tree = answer\n",
    "        return classify_example(example, residual_tree)"
   ]
  },
  {
   "cell_type": "code",
   "execution_count": 260,
   "id": "125d0063",
   "metadata": {},
   "outputs": [],
   "source": [
    "def pred_all(test_df,tree):\n",
    "    predict = []\n",
    "    for i in range(len(test_df)):\n",
    "        example = test_df.iloc[i]\n",
    "        pred = classify_example(example, tree)\n",
    "        predict.append(pred)\n",
    "    return predict"
   ]
  },
  {
   "cell_type": "code",
   "execution_count": 261,
   "id": "56e57ea4",
   "metadata": {},
   "outputs": [],
   "source": [
    "tic1 = time.perf_counter()\n",
    "tree = decision_tree_algorithm(df_train, max_depth=40)\n",
    "toc1 = time.perf_counter()\n",
    "time_DT_train = round(toc1-tic1, 4)"
   ]
  },
  {
   "cell_type": "code",
   "execution_count": 262,
   "id": "3fa18799",
   "metadata": {},
   "outputs": [],
   "source": [
    "tic2 = time.perf_counter()\n",
    "prediction_DT = pred_all(df_test,tree)\n",
    "toc2 = time.perf_counter()\n",
    "time_DT_test = round(toc2-tic2, 4)"
   ]
  },
  {
   "cell_type": "code",
   "execution_count": 263,
   "id": "90500171",
   "metadata": {},
   "outputs": [],
   "source": [
    "error_DT = sum(prediction_DT != df_test.iloc[:, -1])"
   ]
  },
  {
   "cell_type": "code",
   "execution_count": 264,
   "id": "af164d88",
   "metadata": {},
   "outputs": [
    {
     "data": {
      "text/plain": [
       "27"
      ]
     },
     "execution_count": 264,
     "metadata": {},
     "output_type": "execute_result"
    }
   ],
   "source": [
    "error_DT"
   ]
  },
  {
   "cell_type": "code",
   "execution_count": 265,
   "id": "d7fa7ff3",
   "metadata": {},
   "outputs": [
    {
     "data": {
      "text/plain": [
       "0.3018"
      ]
     },
     "execution_count": 265,
     "metadata": {},
     "output_type": "execute_result"
    }
   ],
   "source": [
    "time_DT_train"
   ]
  },
  {
   "cell_type": "code",
   "execution_count": null,
   "id": "8c14872f",
   "metadata": {},
   "outputs": [],
   "source": []
  },
  {
   "cell_type": "markdown",
   "id": "c90207e0",
   "metadata": {},
   "source": [
    "# Result:"
   ]
  },
  {
   "cell_type": "markdown",
   "id": "c378bc4a",
   "metadata": {},
   "source": [
    "## Computing time:"
   ]
  },
  {
   "cell_type": "code",
   "execution_count": 274,
   "id": "83c8baf7",
   "metadata": {},
   "outputs": [
    {
     "name": "stdout",
     "output_type": "stream",
     "text": [
      "Naive Bayes running time:\n",
      "Train: 0.0079 s\n",
      "Test: 0.1002 s\n"
     ]
    }
   ],
   "source": [
    "print(\"Naive Bayes running time:\")\n",
    "print(\"Train:\", time_NB[0], 's')\n",
    "print(\"Test:\", time_NB[1], 's')"
   ]
  },
  {
   "cell_type": "code",
   "execution_count": 275,
   "id": "96c84218",
   "metadata": {},
   "outputs": [
    {
     "name": "stdout",
     "output_type": "stream",
     "text": [
      "KNN running time:\n",
      "Train: 56.2895 s\n",
      "Test: 0.1531 s\n"
     ]
    }
   ],
   "source": [
    "print(\"KNN running time:\")\n",
    "print(\"Train:\", time_KNN[0], 's')\n",
    "print(\"Test:\", time_KNN[1], 's')"
   ]
  },
  {
   "cell_type": "code",
   "execution_count": 276,
   "id": "bc75bb15",
   "metadata": {},
   "outputs": [
    {
     "name": "stdout",
     "output_type": "stream",
     "text": [
      "Decision Tree running time:\n",
      "Train: 0.3018 s\n",
      "Test: 0.0441 s\n"
     ]
    }
   ],
   "source": [
    "print(\"Decision Tree running time:\")\n",
    "print(\"Train:\", time_DT_train, 's')\n",
    "print(\"Test:\", time_DT_test, 's')"
   ]
  },
  {
   "cell_type": "markdown",
   "id": "4e9ed3b9",
   "metadata": {},
   "source": [
    "## Accuracy:"
   ]
  },
  {
   "cell_type": "code",
   "execution_count": 271,
   "id": "429dbf2e",
   "metadata": {},
   "outputs": [
    {
     "name": "stdout",
     "output_type": "stream",
     "text": [
      "Naive Bayes accuracy: 85.83 %\n"
     ]
    }
   ],
   "source": [
    "print(\"Naive Bayes accuracy:\", round(1-(error_NB/len(df_test)), 4)*100, '%')"
   ]
  },
  {
   "cell_type": "code",
   "execution_count": 272,
   "id": "48a22d4c",
   "metadata": {},
   "outputs": [
    {
     "name": "stdout",
     "output_type": "stream",
     "text": [
      "KNN accuracy: 90.16 %\n"
     ]
    }
   ],
   "source": [
    "print(\"KNN accuracy:\", round(1-(error_KNN/len(df_test)), 4)*100, '%')"
   ]
  },
  {
   "cell_type": "code",
   "execution_count": 273,
   "id": "47996a18",
   "metadata": {},
   "outputs": [
    {
     "name": "stdout",
     "output_type": "stream",
     "text": [
      "Decision Tree accuracy: 89.37 %\n"
     ]
    }
   ],
   "source": [
    "print(\"Decision Tree accuracy:\", round(1-(error_DT/len(df_test)), 4)*100, '%')"
   ]
  },
  {
   "cell_type": "markdown",
   "id": "87b2d88e",
   "metadata": {},
   "source": [
    "## Confusion matrix:"
   ]
  },
  {
   "cell_type": "code",
   "execution_count": 109,
   "id": "c7ab5dfc",
   "metadata": {},
   "outputs": [],
   "source": [
    "def confusion_M(prediction, observation):\n",
    "    pre = prediction\n",
    "    obs = observation\n",
    "    class_name = np.unique(obs)\n",
    "    T1 = 0\n",
    "    F1 = 0\n",
    "    T2 = 0\n",
    "    F2 = 0\n",
    "    for i in range(len(pre)):\n",
    "        if pre[i] == obs[i]:\n",
    "            if obs[i] == class_name[0]:\n",
    "                T1 = T1+1\n",
    "            else:\n",
    "                T2 = T2+1\n",
    "        else:\n",
    "            if obs[i] == class_name[0]:\n",
    "                F1 = F1+1\n",
    "            else:\n",
    "                F2 = F2+1\n",
    "    return np.array([[F2,T1],[T2,F1]]), class_name"
   ]
  },
  {
   "cell_type": "code",
   "execution_count": 110,
   "id": "c8d20a76",
   "metadata": {},
   "outputs": [],
   "source": [
    "CM_KNN, class_name_KNN = confusion_M(prediction_KNN, df_test.iloc[:, -1])"
   ]
  },
  {
   "cell_type": "code",
   "execution_count": 117,
   "id": "c98ef671",
   "metadata": {},
   "outputs": [],
   "source": [
    "CM_NB, class_name_NB = confusion_M(prediction_NB, df_test.iloc[:, -1])"
   ]
  },
  {
   "cell_type": "code",
   "execution_count": 267,
   "id": "c7553db7",
   "metadata": {},
   "outputs": [],
   "source": [
    "CM_DT, class_name_DT = confusion_M(prediction_DT, df_test.iloc[:, -1])"
   ]
  },
  {
   "cell_type": "code",
   "execution_count": 118,
   "id": "d274516b",
   "metadata": {},
   "outputs": [
    {
     "name": "stdout",
     "output_type": "stream",
     "text": [
      "Naive Bayes confusion matrix:\n",
      "Class name: ['high risk' 'low risk']\n",
      "[[ 13  44]\n",
      " [174  23]]\n"
     ]
    }
   ],
   "source": [
    "print(\"Naive Bayes confusion matrix:\")\n",
    "print(\"Class name:\", class_name_NB)\n",
    "print(CM_NB)"
   ]
  },
  {
   "cell_type": "code",
   "execution_count": 119,
   "id": "9e626676",
   "metadata": {},
   "outputs": [
    {
     "name": "stdout",
     "output_type": "stream",
     "text": [
      "KNN confusion matrix:\n",
      "Class name: ['high risk' 'low risk']\n",
      "[[  7  49]\n",
      " [180  18]]\n"
     ]
    }
   ],
   "source": [
    "print(\"KNN confusion matrix:\")\n",
    "print(\"Class name:\", class_name_KNN)\n",
    "print(CM_KNN)"
   ]
  },
  {
   "cell_type": "code",
   "execution_count": 268,
   "id": "7f155ec8",
   "metadata": {},
   "outputs": [
    {
     "name": "stdout",
     "output_type": "stream",
     "text": [
      "Decision Tree confusion matrix:\n",
      "Class name: ['high risk' 'low risk']\n",
      "[[ 13  53]\n",
      " [174  14]]\n"
     ]
    }
   ],
   "source": [
    "print(\"Decision Tree confusion matrix:\")\n",
    "print(\"Class name:\", class_name_DT)\n",
    "print(CM_DT)"
   ]
  },
  {
   "cell_type": "markdown",
   "id": "89a4af21",
   "metadata": {},
   "source": [
    "## Receiver Operating Characteristic:"
   ]
  },
  {
   "cell_type": "code",
   "execution_count": 222,
   "id": "dfd2ca5b",
   "metadata": {},
   "outputs": [],
   "source": [
    "def ROC(y_test, y_score):\n",
    "    class_name = np.unique(y_test)\n",
    "    P = list(y_test).count(class_name[0])\n",
    "    N = list(y_test).count(class_name[1])\n",
    "    L = list(zip(y_test, y_score))\n",
    "    L.sort(key = lambda tup:tup[1])\n",
    "    FP = 0\n",
    "    TP = 0\n",
    "    R = []\n",
    "    f = -math.inf\n",
    "    for i in range(len(L)):\n",
    "        if L[i][1] != f:\n",
    "            R.append([FP/N, TP/P])\n",
    "            f = L[i][1]\n",
    "        if L[i][0] == class_name[0]:\n",
    "            TP+=1\n",
    "        else:\n",
    "            FP+=1\n",
    "    R.append([FP/N, TP/P])\n",
    "    return R"
   ]
  },
  {
   "cell_type": "code",
   "execution_count": 233,
   "id": "5f58eec7",
   "metadata": {},
   "outputs": [],
   "source": [
    "R_NB = ROC(df_test.iloc[:,-1], score_NB)"
   ]
  },
  {
   "cell_type": "code",
   "execution_count": 234,
   "id": "a7f41930",
   "metadata": {},
   "outputs": [],
   "source": [
    "R_KNN = ROC(df_test.iloc[:,-1], score_KNN)"
   ]
  },
  {
   "cell_type": "code",
   "execution_count": 237,
   "id": "9bd11bc1",
   "metadata": {},
   "outputs": [
    {
     "data": {
      "text/plain": [
       "Text(0.5, 1.0, 'ROC Curve of NB')"
      ]
     },
     "execution_count": 237,
     "metadata": {},
     "output_type": "execute_result"
    },
    {
     "data": {
      "image/png": "[encoded data removed]",
      "text/plain": [
       "<Figure size 432x288 with 1 Axes>"
      ]
     },
     "metadata": {
      "needs_background": "light"
     },
     "output_type": "display_data"
    }
   ],
   "source": [
    "plt.plot(1-np.array(R_NB)[:, 0], 1-np.array(R_NB)[:, 1])\n",
    "plt.ylabel('True Positive Rate')\n",
    "plt.xlabel('False Positive Rate')\n",
    "plt.title('ROC Curve of NB')"
   ]
  },
  {
   "cell_type": "code",
   "execution_count": 239,
   "id": "84198c43",
   "metadata": {},
   "outputs": [
    {
     "data": {
      "text/plain": [
       "Text(0.5, 1.0, 'ROC Curve of KNN')"
      ]
     },
     "execution_count": 239,
     "metadata": {},
     "output_type": "execute_result"
    },
    {
     "data": {
      "image/png": "[encoded data removed]",
      "text/plain": [
       "<Figure size 432x288 with 1 Axes>"
      ]
     },
     "metadata": {
      "needs_background": "light"
     },
     "output_type": "display_data"
    }
   ],
   "source": [
    "plt.plot(1-np.array(R_KNN)[:, 0], 1-np.array(R_KNN)[:, 1])\n",
    "plt.ylabel('True Positive Rate')\n",
    "plt.xlabel('False Positive Rate')\n",
    "plt.title('ROC Curve of KNN')"
   ]
  },
  {
   "cell_type": "code",
   "execution_count": null,
   "id": "4c2bfadd",
   "metadata": {},
   "outputs": [],
   "source": []
  }
 ],
 "metadata": {
  "kernelspec": {
   "display_name": "Python 3 (ipykernel)",
   "language": "python",
   "name": "python3"
  },
  "language_info": {
   "codemirror_mode": {
    "name": "ipython",
    "version": 3
   },
   "file_extension": ".py",
   "mimetype": "text/x-python",
   "name": "python",
   "nbconvert_exporter": "python",
   "pygments_lexer": "ipython3",
   "version": "3.8.12"
  }
 },
 "nbformat": 4,
 "nbformat_minor": 5
}
